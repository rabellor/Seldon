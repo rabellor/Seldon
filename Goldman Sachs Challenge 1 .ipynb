{
 "cells": [
  {
   "cell_type": "markdown",
   "metadata": {
    "collapsed": false
   },
   "source": [
    "Goldman Sachs Coding Sprint\n",
    "\n",
    "1. Easy Bank Accounts\n",
    "\n",
    "You are going to receive  payments in the upcoming month. The payments are numbered from  to  and denotes the amount of money in dollars that will be paid in connection with the -th payment. Before receiving the payments, you have two banking options to consider:\n",
    "\n",
    "You can receive all the payments on your current bank account remembering that the bank charges you for each payment  , where  and  are given.\n",
    "You can pay the bank  dollars upfront to open a new special account for which the bank doesn't charge you for any of the upcoming transactions.\n",
    "Your task is to decide which of the above two options is more profitable to you. If both ways are equally profitable, then you prefer to be charged for each transaction.\n",
    "\n",
    "Input Format\n",
    "\n",
    "In the first line, there is a single integer  denoting the number of scenarios to handle. After that, descriptions of all these scenarios follow. In the first line of a single scenario, there are  space-separated integers . In the second line, there are  space separated integers .\n",
    "\n",
    "Constraints\n",
    "\n",
    "Output Format\n",
    "\n",
    "Print exactly  lines. In the -th of them, print the answer to the -th scenario. More specifically, print feeif it's more profitable to use the current account and let the bank charge for each transaction, or print upfront if it's better to pay the bank up front for opening the new special account.\n",
    "\n",
    "Sample Input 0\n",
    "\n",
    "3\n",
    "3 20 10 60\n",
    "100 200 300\n",
    "3 20 15 120\n",
    "200 250 300\n",
    "1 1 10 100\n",
    "1000\n",
    "Sample Output 0\n",
    "\n",
    "upfront\n",
    "fee\n",
    "fee\n",
    "Explanation 0\n",
    "\n",
    "There are  scenarios in the sample.\n",
    "\n",
    "In the first one, there are  payments with amounts: . In the first option, for each transaction with amount , the bank charges . In the second option, you can pay upfront . It turns out that it's better to choose the second option, i.e. pay up front, because in the first option the bank would charge across all the payments.\n",
    "\n",
    "In the second scenario, it's better to be charged for each transaction because the bank will charge  across all payments, which is strictly less than the cost of paying upfront.\n",
    "\n",
    "In the third scenario, each banking option costs . In the statement, it's written than in such a case we prefer to pay a fee.\n"
   ]
  },
  {
   "cell_type": "code",
   "execution_count": 29,
   "metadata": {
    "collapsed": false
   },
   "outputs": [
    {
     "name": "stdout",
     "output_type": "stream",
     "text": [
      "12\n",
      "65\n",
      "55\n",
      "70\n",
      "53\n",
      "43\n",
      "58\n",
      "70\n",
      "60\n",
      "75\n",
      "5\n",
      "15\n"
     ]
    }
   ],
   "source": [
    "from itertools import combinations\n",
    "A = [10,22,5,75,65,80]\n",
    "for a, b in combinations(A, 2):\n",
    "    if \n",
    "    diff = b - a\n",
    "   # print(diff)\n",
    "    if diff >0:\n",
    "        print(diff)\n",
    "        #print(diff)"
   ]
  },
  {
   "cell_type": "code",
   "execution_count": null,
   "metadata": {
    "collapsed": true
   },
   "outputs": [],
   "source": [
    "import sys\n",
    "\n",
    "def feeOrUpfront(n, k, x, d, p):\n",
    "    # Complete this function\n",
    "  #  print(p)\n",
    "    listALL = []\n",
    "    for i in p:\n",
    "        option1 = max(k, (i*x)/100) \n",
    "      #  print(n)\n",
    "     #   print(i*(x/100))\n",
    "        listALL.append(option1)\n",
    "        \n",
    "   # print(listALL)   \n",
    "    \n",
    "    #sum all numbers of listALL = fee1\n",
    "    fee1 = sum(listALL)\n",
    "    #print(fee1http://localhost:8888/notebooks/Untitled2.ipynb#)\n",
    "    \n",
    "    if fee1 < d:\n",
    "        return 'fee'\n",
    "        \n",
    "    elif fee1 == d:\n",
    "        return 'fee'\n",
    "            \n",
    "    else:\n",
    "        return 'upfront'\n",
    "        \n",
    "            \n",
    "\n",
    "if __name__ == \"__main__\":\n",
    "    q = int(input().strip())\n",
    "    for a0 in range(q):\n",
    "        n, k, x, d = input().strip().split(' ')\n",
    "        n, k, x, d = [int(n), int(k), int(x), int(d)]\n",
    "        p = list(map(int, input().strip().split(' ')))\n",
    "        result = feeOrUpfront(n, k, x, d, p)\n",
    "        print(result)\n"
   ]
  }
 ],
 "metadata": {
  "anaconda-cloud": {},
  "kernelspec": {
   "display_name": "Python [conda root]",
   "language": "python",
   "name": "conda-root-py"
  },
  "language_info": {
   "codemirror_mode": {
    "name": "ipython",
    "version": 3
   },
   "file_extension": ".py",
   "mimetype": "text/x-python",
   "name": "python",
   "nbconvert_exporter": "python",
   "pygments_lexer": "ipython3",
   "version": "3.5.2"
  }
 },
 "nbformat": 4,
 "nbformat_minor": 2
}
